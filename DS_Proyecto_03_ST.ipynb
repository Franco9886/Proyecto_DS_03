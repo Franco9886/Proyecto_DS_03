{
 "cells": [
  {
   "cell_type": "markdown",
   "metadata": {
    "id": "Y5xSScYVId1j"
   },
   "source": [
    "# Proyecto 03 - Series de Tiempo\n",
    "\n",
    "## Dataset: Flujo Vehicular por Unidades de Peaje AUSA\n",
    "\n",
    "**Recuerda descargar el dataset de [aquí](https://data.buenosaires.gob.ar/dataset/flujo-vehicular-por-unidades-peaje-ausa). Deberás descargar -  al menos para comenzar - los años 2017, 2018 y 2019.**\n",
    "\n",
    "En este notebook te dejamos unas celdas para que puedas comenzar a trabajar con este dataset para los años 2017, 2018 y 2019. Si deseas utilizar otros años, ten en cuenta que deberás hacer el preprocesamiento correspondiente, ya que la estructura de los datos puede variar.\n",
    "\n",
    "**Importante:** Para el proyecto, debes comenzar con los datos de la autopista Illia, pago en Efectivo.\n",
    "\n",
    "### Exploración de datos\n",
    "\n",
    "Dedícale un buen tiempo a hacer un Análisis Exploratorio de Datos. Elige preguntas que creas que puedas responder con este dataset. Por ejemplo, ¿Cuáles son los días y horarios de mayor tráfico? También, estudia autocorrelaciones, resampleos, etc.\n",
    "\n",
    "#### Componentes de la serie\n",
    "\n",
    "1. Calcula las componentes estacionales y tendencia de la serie. Interpreta los resultados, si es necesario con información auxiliar (por fuera del dataset) o elementos del dataset que no estés utilizando (por ejemplo, si la tendencia es negativa, ¿puede ser porque se migre a otras formas de pago?).\n",
    "1. ¿La serie posee valores atípicos? Si es así, interpreta, si es necesario con información auxiliar. **Pista**: primer semestre 2019.\n",
    "\n",
    "### Predicción a Futuro\n",
    "\n",
    "Debes implementar un modelo que prediga el tráfico en la autopista Illia para el último trimestre del 2019. \n",
    "\n",
    "1. Haz todas las transformaciones de datos que consideres necesarias. Justifica.\n",
    "1. Evalúa de forma apropiada tus resultados. Justifica la métrica elegida.\n",
    "1. Elige un modelo benchmark y compara tus resultados con este modelo.\n",
    "1. Optimiza los hiperparámetros de tu modelo. \n",
    "1. Intenta responder la pregunta: ¿Qué información está usando el modelo para predecir?\n",
    "1. Utiliza el modelo creado para predecir el tráfico en el año 2020. ¿Cómo funciona?\n",
    "1. Si lo deseas, puedes agregar información de años anteriores a 2017. ¿Mejoran los resultados?\n",
    "\n",
    "### Para pensar, investigar y, opcionalmente, implementar\n",
    "1. ¿Cómo incorporarías la información sobre tipo de vehículo, forma de pago, sentido, día de la semana, etc.? En lo que respecta a las predicciones, ¿mejoran o empeoran?\n",
    "1. ¿Qué ocurre si comparas las series de tiempo entre distintas estaciones de peajes?¿Tienen el mismo comportamiento o hay alguna que sea distinta a las otras? Si es así, ¿hay información auxiliar que te ayude a explicar lo que encuentras?\n",
    "1. ¿Hay algo que te gustaría investigar o probar?\n",
    "\n",
    "### **¡Tómate tiempo para investigar y leer mucho!**\n",
    "\n",
    "### 1. Preparación del Dataset"
   ]
  },
  {
   "cell_type": "code",
   "execution_count": 1,
   "metadata": {
    "id": "W7HAw3EvId1m"
   },
   "outputs": [],
   "source": [
    "import pandas as pd\n",
    "import numpy as np\n",
    "import matplotlib.pyplot as plt\n",
    "import datetime"
   ]
  },
  {
   "cell_type": "code",
   "execution_count": 2,
   "metadata": {
    "id": "hgxJSUQ0Id1x"
   },
   "outputs": [],
   "source": [
    "data_2019 = pd.read_csv('flujo-vehicular-2019.csv', sep =',')\n",
    "data_2018 = pd.read_csv('flujo-vehicular-2018.csv', sep =',')\n",
    "data_2017 = pd.read_csv('flujo-vehicular-2017.csv', sep =',')"
   ]
  },
  {
   "cell_type": "code",
   "execution_count": 3,
   "metadata": {
    "id": "-rqv8_yHId19",
    "outputId": "775c8fcb-7707-4d61-b520-703151acb587"
   },
   "outputs": [
    {
     "name": "stdout",
     "output_type": "stream",
     "text": [
      "<class 'pandas.core.frame.DataFrame'>\n",
      "RangeIndex: 812153 entries, 0 to 812152\n",
      "Data columns (total 10 columns):\n",
      " #   Column          Non-Null Count   Dtype \n",
      "---  ------          --------------   ----- \n",
      " 0   periodo         812153 non-null  int64 \n",
      " 1   fecha           812153 non-null  object\n",
      " 2   hora_inicio     812153 non-null  int64 \n",
      " 3   hora_fin        812153 non-null  int64 \n",
      " 4   dia             812153 non-null  object\n",
      " 5   estacion        812153 non-null  object\n",
      " 6   sentido         812153 non-null  object\n",
      " 7   tipo_vehiculo   812153 non-null  object\n",
      " 8   forma_pago      812153 non-null  object\n",
      " 9   cantidad_pasos  812153 non-null  int64 \n",
      "dtypes: int64(4), object(6)\n",
      "memory usage: 62.0+ MB\n"
     ]
    },
    {
     "data": {
      "text/html": [
       "<div>\n",
       "<style scoped>\n",
       "    .dataframe tbody tr th:only-of-type {\n",
       "        vertical-align: middle;\n",
       "    }\n",
       "\n",
       "    .dataframe tbody tr th {\n",
       "        vertical-align: top;\n",
       "    }\n",
       "\n",
       "    .dataframe thead th {\n",
       "        text-align: right;\n",
       "    }\n",
       "</style>\n",
       "<table border=\"1\" class=\"dataframe\">\n",
       "  <thead>\n",
       "    <tr style=\"text-align: right;\">\n",
       "      <th></th>\n",
       "      <th>periodo</th>\n",
       "      <th>fecha</th>\n",
       "      <th>hora_inicio</th>\n",
       "      <th>hora_fin</th>\n",
       "      <th>dia</th>\n",
       "      <th>estacion</th>\n",
       "      <th>sentido</th>\n",
       "      <th>tipo_vehiculo</th>\n",
       "      <th>forma_pago</th>\n",
       "      <th>cantidad_pasos</th>\n",
       "    </tr>\n",
       "  </thead>\n",
       "  <tbody>\n",
       "    <tr>\n",
       "      <th>0</th>\n",
       "      <td>2019</td>\n",
       "      <td>2019-01-01</td>\n",
       "      <td>0</td>\n",
       "      <td>1</td>\n",
       "      <td>Martes</td>\n",
       "      <td>Alberti</td>\n",
       "      <td>Centro</td>\n",
       "      <td>Liviano</td>\n",
       "      <td>NO COBRADO</td>\n",
       "      <td>22</td>\n",
       "    </tr>\n",
       "    <tr>\n",
       "      <th>1</th>\n",
       "      <td>2019</td>\n",
       "      <td>2019-01-01</td>\n",
       "      <td>0</td>\n",
       "      <td>1</td>\n",
       "      <td>Martes</td>\n",
       "      <td>Alberti</td>\n",
       "      <td>Centro</td>\n",
       "      <td>Liviano</td>\n",
       "      <td>TELEPASE</td>\n",
       "      <td>6</td>\n",
       "    </tr>\n",
       "    <tr>\n",
       "      <th>2</th>\n",
       "      <td>2019</td>\n",
       "      <td>2019-01-01</td>\n",
       "      <td>0</td>\n",
       "      <td>1</td>\n",
       "      <td>Martes</td>\n",
       "      <td>Alberti</td>\n",
       "      <td>Provincia</td>\n",
       "      <td>Liviano</td>\n",
       "      <td>NO COBRADO</td>\n",
       "      <td>53</td>\n",
       "    </tr>\n",
       "    <tr>\n",
       "      <th>3</th>\n",
       "      <td>2019</td>\n",
       "      <td>2019-01-01</td>\n",
       "      <td>0</td>\n",
       "      <td>1</td>\n",
       "      <td>Martes</td>\n",
       "      <td>Alberti</td>\n",
       "      <td>Provincia</td>\n",
       "      <td>Liviano</td>\n",
       "      <td>TELEPASE</td>\n",
       "      <td>18</td>\n",
       "    </tr>\n",
       "    <tr>\n",
       "      <th>4</th>\n",
       "      <td>2019</td>\n",
       "      <td>2019-01-01</td>\n",
       "      <td>0</td>\n",
       "      <td>1</td>\n",
       "      <td>Martes</td>\n",
       "      <td>Avellaneda</td>\n",
       "      <td>Centro</td>\n",
       "      <td>Liviano</td>\n",
       "      <td>EFECTIVO</td>\n",
       "      <td>16</td>\n",
       "    </tr>\n",
       "  </tbody>\n",
       "</table>\n",
       "</div>"
      ],
      "text/plain": [
       "   periodo       fecha  hora_inicio  hora_fin     dia    estacion    sentido  \\\n",
       "0     2019  2019-01-01            0         1  Martes     Alberti     Centro   \n",
       "1     2019  2019-01-01            0         1  Martes     Alberti     Centro   \n",
       "2     2019  2019-01-01            0         1  Martes     Alberti  Provincia   \n",
       "3     2019  2019-01-01            0         1  Martes     Alberti  Provincia   \n",
       "4     2019  2019-01-01            0         1  Martes  Avellaneda     Centro   \n",
       "\n",
       "  tipo_vehiculo  forma_pago  cantidad_pasos  \n",
       "0       Liviano  NO COBRADO              22  \n",
       "1       Liviano    TELEPASE               6  \n",
       "2       Liviano  NO COBRADO              53  \n",
       "3       Liviano    TELEPASE              18  \n",
       "4       Liviano    EFECTIVO              16  "
      ]
     },
     "execution_count": 3,
     "metadata": {},
     "output_type": "execute_result"
    }
   ],
   "source": [
    "data_2019.info()\n",
    "data_2019.head()"
   ]
  },
  {
   "cell_type": "code",
   "execution_count": 4,
   "metadata": {
    "id": "t327LOEhId2G",
    "outputId": "56c75966-efc5-437f-9579-a953f202ba0c"
   },
   "outputs": [
    {
     "name": "stdout",
     "output_type": "stream",
     "text": [
      "<class 'pandas.core.frame.DataFrame'>\n",
      "RangeIndex: 1375908 entries, 0 to 1375907\n",
      "Data columns (total 10 columns):\n",
      " #   Column          Non-Null Count    Dtype \n",
      "---  ------          --------------    ----- \n",
      " 0   periodo         1375908 non-null  int64 \n",
      " 1   fecha           1375908 non-null  object\n",
      " 2   hora_inicio     1375908 non-null  int64 \n",
      " 3   hora_fin        1375908 non-null  int64 \n",
      " 4   dia             1375908 non-null  object\n",
      " 5   estacion        1375908 non-null  object\n",
      " 6   sentido         1375908 non-null  object\n",
      " 7   tipo_vehiculo   1375908 non-null  object\n",
      " 8   forma_pago      1375908 non-null  object\n",
      " 9   cantidad_pasos  1375908 non-null  int64 \n",
      "dtypes: int64(4), object(6)\n",
      "memory usage: 105.0+ MB\n"
     ]
    },
    {
     "data": {
      "text/html": [
       "<div>\n",
       "<style scoped>\n",
       "    .dataframe tbody tr th:only-of-type {\n",
       "        vertical-align: middle;\n",
       "    }\n",
       "\n",
       "    .dataframe tbody tr th {\n",
       "        vertical-align: top;\n",
       "    }\n",
       "\n",
       "    .dataframe thead th {\n",
       "        text-align: right;\n",
       "    }\n",
       "</style>\n",
       "<table border=\"1\" class=\"dataframe\">\n",
       "  <thead>\n",
       "    <tr style=\"text-align: right;\">\n",
       "      <th></th>\n",
       "      <th>periodo</th>\n",
       "      <th>fecha</th>\n",
       "      <th>hora_inicio</th>\n",
       "      <th>hora_fin</th>\n",
       "      <th>dia</th>\n",
       "      <th>estacion</th>\n",
       "      <th>sentido</th>\n",
       "      <th>tipo_vehiculo</th>\n",
       "      <th>forma_pago</th>\n",
       "      <th>cantidad_pasos</th>\n",
       "    </tr>\n",
       "  </thead>\n",
       "  <tbody>\n",
       "    <tr>\n",
       "      <th>0</th>\n",
       "      <td>2018</td>\n",
       "      <td>2018-01-01</td>\n",
       "      <td>0</td>\n",
       "      <td>1</td>\n",
       "      <td>Lunes</td>\n",
       "      <td>Alberdi</td>\n",
       "      <td>Centro</td>\n",
       "      <td>Liviano</td>\n",
       "      <td>NO COBRADO</td>\n",
       "      <td>29</td>\n",
       "    </tr>\n",
       "    <tr>\n",
       "      <th>1</th>\n",
       "      <td>2018</td>\n",
       "      <td>2018-01-01</td>\n",
       "      <td>0</td>\n",
       "      <td>1</td>\n",
       "      <td>Lunes</td>\n",
       "      <td>Alberdi</td>\n",
       "      <td>Centro</td>\n",
       "      <td>Liviano</td>\n",
       "      <td>TELEPASE</td>\n",
       "      <td>9</td>\n",
       "    </tr>\n",
       "    <tr>\n",
       "      <th>2</th>\n",
       "      <td>2018</td>\n",
       "      <td>2018-01-01</td>\n",
       "      <td>1</td>\n",
       "      <td>2</td>\n",
       "      <td>Lunes</td>\n",
       "      <td>Alberdi</td>\n",
       "      <td>Centro</td>\n",
       "      <td>Liviano</td>\n",
       "      <td>NO COBRADO</td>\n",
       "      <td>73</td>\n",
       "    </tr>\n",
       "    <tr>\n",
       "      <th>3</th>\n",
       "      <td>2018</td>\n",
       "      <td>2018-01-01</td>\n",
       "      <td>1</td>\n",
       "      <td>2</td>\n",
       "      <td>Lunes</td>\n",
       "      <td>Alberdi</td>\n",
       "      <td>Centro</td>\n",
       "      <td>Liviano</td>\n",
       "      <td>TELEPASE</td>\n",
       "      <td>39</td>\n",
       "    </tr>\n",
       "    <tr>\n",
       "      <th>4</th>\n",
       "      <td>2018</td>\n",
       "      <td>2018-01-01</td>\n",
       "      <td>2</td>\n",
       "      <td>3</td>\n",
       "      <td>Lunes</td>\n",
       "      <td>Alberdi</td>\n",
       "      <td>Centro</td>\n",
       "      <td>Liviano</td>\n",
       "      <td>NO COBRADO</td>\n",
       "      <td>115</td>\n",
       "    </tr>\n",
       "  </tbody>\n",
       "</table>\n",
       "</div>"
      ],
      "text/plain": [
       "   periodo       fecha  hora_inicio  hora_fin    dia estacion sentido  \\\n",
       "0     2018  2018-01-01            0         1  Lunes  Alberdi  Centro   \n",
       "1     2018  2018-01-01            0         1  Lunes  Alberdi  Centro   \n",
       "2     2018  2018-01-01            1         2  Lunes  Alberdi  Centro   \n",
       "3     2018  2018-01-01            1         2  Lunes  Alberdi  Centro   \n",
       "4     2018  2018-01-01            2         3  Lunes  Alberdi  Centro   \n",
       "\n",
       "  tipo_vehiculo  forma_pago  cantidad_pasos  \n",
       "0       Liviano  NO COBRADO              29  \n",
       "1       Liviano    TELEPASE               9  \n",
       "2       Liviano  NO COBRADO              73  \n",
       "3       Liviano    TELEPASE              39  \n",
       "4       Liviano  NO COBRADO             115  "
      ]
     },
     "execution_count": 4,
     "metadata": {},
     "output_type": "execute_result"
    }
   ],
   "source": [
    "data_2018.info()\n",
    "data_2018.head()"
   ]
  },
  {
   "cell_type": "code",
   "execution_count": 5,
   "metadata": {
    "id": "OvaBbZf_Id2N",
    "outputId": "cec6fee3-7f73-46c7-ea00-95dd150cd80a"
   },
   "outputs": [
    {
     "name": "stdout",
     "output_type": "stream",
     "text": [
      "<class 'pandas.core.frame.DataFrame'>\n",
      "RangeIndex: 1372645 entries, 0 to 1372644\n",
      "Data columns (total 10 columns):\n",
      " #   Column          Non-Null Count    Dtype \n",
      "---  ------          --------------    ----- \n",
      " 0   periodo         1372645 non-null  int64 \n",
      " 1   fecha           1372645 non-null  object\n",
      " 2   hora_inicio     1372645 non-null  int64 \n",
      " 3   hora_fin        1372645 non-null  int64 \n",
      " 4   dia             1372645 non-null  object\n",
      " 5   estacion        1372645 non-null  object\n",
      " 6   sentido         1372645 non-null  object\n",
      " 7   tipo_vehiculo   1372645 non-null  object\n",
      " 8   forma_pago      1372645 non-null  object\n",
      " 9   cantidad_pasos  1372645 non-null  int64 \n",
      "dtypes: int64(4), object(6)\n",
      "memory usage: 104.7+ MB\n"
     ]
    },
    {
     "data": {
      "text/html": [
       "<div>\n",
       "<style scoped>\n",
       "    .dataframe tbody tr th:only-of-type {\n",
       "        vertical-align: middle;\n",
       "    }\n",
       "\n",
       "    .dataframe tbody tr th {\n",
       "        vertical-align: top;\n",
       "    }\n",
       "\n",
       "    .dataframe thead th {\n",
       "        text-align: right;\n",
       "    }\n",
       "</style>\n",
       "<table border=\"1\" class=\"dataframe\">\n",
       "  <thead>\n",
       "    <tr style=\"text-align: right;\">\n",
       "      <th></th>\n",
       "      <th>periodo</th>\n",
       "      <th>fecha</th>\n",
       "      <th>hora_inicio</th>\n",
       "      <th>hora_fin</th>\n",
       "      <th>dia</th>\n",
       "      <th>estacion</th>\n",
       "      <th>sentido</th>\n",
       "      <th>tipo_vehiculo</th>\n",
       "      <th>forma_pago</th>\n",
       "      <th>cantidad_pasos</th>\n",
       "    </tr>\n",
       "  </thead>\n",
       "  <tbody>\n",
       "    <tr>\n",
       "      <th>0</th>\n",
       "      <td>2017</td>\n",
       "      <td>2017-01-01</td>\n",
       "      <td>0</td>\n",
       "      <td>1</td>\n",
       "      <td>Domingo</td>\n",
       "      <td>Alberdi</td>\n",
       "      <td>Centro</td>\n",
       "      <td>Liviano</td>\n",
       "      <td>NO COBRADO</td>\n",
       "      <td>25</td>\n",
       "    </tr>\n",
       "    <tr>\n",
       "      <th>1</th>\n",
       "      <td>2017</td>\n",
       "      <td>2017-01-01</td>\n",
       "      <td>0</td>\n",
       "      <td>1</td>\n",
       "      <td>Domingo</td>\n",
       "      <td>Alberdi</td>\n",
       "      <td>Centro</td>\n",
       "      <td>Liviano</td>\n",
       "      <td>TELEPASE</td>\n",
       "      <td>7</td>\n",
       "    </tr>\n",
       "    <tr>\n",
       "      <th>2</th>\n",
       "      <td>2017</td>\n",
       "      <td>2017-01-01</td>\n",
       "      <td>1</td>\n",
       "      <td>2</td>\n",
       "      <td>Domingo</td>\n",
       "      <td>Alberdi</td>\n",
       "      <td>Centro</td>\n",
       "      <td>Liviano</td>\n",
       "      <td>NO COBRADO</td>\n",
       "      <td>5</td>\n",
       "    </tr>\n",
       "    <tr>\n",
       "      <th>3</th>\n",
       "      <td>2017</td>\n",
       "      <td>2017-01-01</td>\n",
       "      <td>1</td>\n",
       "      <td>2</td>\n",
       "      <td>Domingo</td>\n",
       "      <td>Alberdi</td>\n",
       "      <td>Centro</td>\n",
       "      <td>Liviano</td>\n",
       "      <td>EFECTIVO</td>\n",
       "      <td>2</td>\n",
       "    </tr>\n",
       "    <tr>\n",
       "      <th>4</th>\n",
       "      <td>2017</td>\n",
       "      <td>2017-01-01</td>\n",
       "      <td>1</td>\n",
       "      <td>2</td>\n",
       "      <td>Domingo</td>\n",
       "      <td>Alberdi</td>\n",
       "      <td>Centro</td>\n",
       "      <td>Liviano</td>\n",
       "      <td>EFECTIVO</td>\n",
       "      <td>94</td>\n",
       "    </tr>\n",
       "  </tbody>\n",
       "</table>\n",
       "</div>"
      ],
      "text/plain": [
       "   periodo       fecha  hora_inicio  hora_fin      dia estacion sentido  \\\n",
       "0     2017  2017-01-01            0         1  Domingo  Alberdi  Centro   \n",
       "1     2017  2017-01-01            0         1  Domingo  Alberdi  Centro   \n",
       "2     2017  2017-01-01            1         2  Domingo  Alberdi  Centro   \n",
       "3     2017  2017-01-01            1         2  Domingo  Alberdi  Centro   \n",
       "4     2017  2017-01-01            1         2  Domingo  Alberdi  Centro   \n",
       "\n",
       "  tipo_vehiculo  forma_pago  cantidad_pasos  \n",
       "0       Liviano  NO COBRADO              25  \n",
       "1       Liviano    TELEPASE               7  \n",
       "2       Liviano  NO COBRADO               5  \n",
       "3       Liviano    EFECTIVO               2  \n",
       "4       Liviano    EFECTIVO              94  "
      ]
     },
     "execution_count": 5,
     "metadata": {},
     "output_type": "execute_result"
    }
   ],
   "source": [
    "data_2017.info()\n",
    "data_2017.head()"
   ]
  },
  {
   "cell_type": "markdown",
   "metadata": {
    "id": "KcR5QSDTId2U"
   },
   "source": [
    "Investiguemos que valores toman los campos **estacion, sentido, tipo_vehiculo y forma_pago**"
   ]
  },
  {
   "cell_type": "code",
   "execution_count": 6,
   "metadata": {
    "id": "5C-XUOgYId2V",
    "outputId": "65c139de-d876-4414-bea3-476d316dc643"
   },
   "outputs": [
    {
     "name": "stdout",
     "output_type": "stream",
     "text": [
      "['Alberti' 'Avellaneda' 'Dellepiane' 'Illia' 'Retiro' 'Salguero'\n",
      " 'Sarmiento' 'PDB']\n",
      "['Alberdi' 'Avellaneda' 'Dellepiane Centro' 'Dellepiane Liniers' 'Illia'\n",
      " 'Retiro' 'Salguero' 'Sarmiento']\n",
      "['Alberdi' 'Avellaneda' 'Dellepiane Centro' 'Dellepiane Liniers' 'Illia'\n",
      " 'Retiro' 'Salguero' 'Sarmiento']\n"
     ]
    }
   ],
   "source": [
    "print(data_2019['estacion'].unique())\n",
    "print(data_2018['estacion'].unique())\n",
    "print(data_2017['estacion'].unique())"
   ]
  },
  {
   "cell_type": "code",
   "execution_count": 7,
   "metadata": {
    "id": "qqvXxv-DId2b",
    "outputId": "01efcab6-d5cd-4f9e-b8fc-ab7b10374560"
   },
   "outputs": [
    {
     "name": "stdout",
     "output_type": "stream",
     "text": [
      "['Centro' 'Provincia']\n",
      "['Centro' 'Provincia']\n",
      "['Centro' 'Provincia']\n"
     ]
    }
   ],
   "source": [
    "print(data_2019['sentido'].unique())\n",
    "print(data_2018['sentido'].unique())\n",
    "print(data_2017['sentido'].unique())"
   ]
  },
  {
   "cell_type": "code",
   "execution_count": 8,
   "metadata": {
    "id": "KK4J02tHId2f",
    "outputId": "ddd178d0-5f28-4f45-d162-6b5944af306b"
   },
   "outputs": [
    {
     "name": "stdout",
     "output_type": "stream",
     "text": [
      "['Liviano' 'Pesado']\n",
      "['Liviano' 'Pesado']\n",
      "['Liviano' 'Pesado']\n"
     ]
    }
   ],
   "source": [
    "print(data_2019['tipo_vehiculo'].unique())\n",
    "print(data_2018['tipo_vehiculo'].unique())\n",
    "print(data_2017['tipo_vehiculo'].unique())"
   ]
  },
  {
   "cell_type": "code",
   "execution_count": 9,
   "metadata": {
    "id": "_m8VhDhtId2k",
    "outputId": "a44b93a9-8bdb-4bbf-d7f5-1543c97bb447"
   },
   "outputs": [
    {
     "name": "stdout",
     "output_type": "stream",
     "text": [
      "['NO COBRADO' 'TELEPASE' 'EFECTIVO' 'EXENTO' 'INFRACCION'\n",
      " 'T. DISCAPACIDAD']\n",
      "['NO COBRADO' 'TELEPASE' 'EFECTIVO' 'EXENTO' 'TARJETA DISCAPACIDAD'\n",
      " 'INFRACCION']\n",
      "['NO COBRADO' 'TELEPASE' 'EFECTIVO' 'TARJETA DISCAPACIDAD' 'EXENTO'\n",
      " 'INFRACCION' 'MONEDERO' 'Otros']\n"
     ]
    }
   ],
   "source": [
    "print(data_2019['forma_pago'].unique())\n",
    "print(data_2018['forma_pago'].unique())\n",
    "print(data_2017['forma_pago'].unique())"
   ]
  },
  {
   "cell_type": "markdown",
   "metadata": {
    "id": "OUImrZ0HId2q"
   },
   "source": [
    "##### Podemos decir entonces que los años 2017, 2018 y 2019 tienen las siguientes columnas con la siguiente información:\n",
    "\n",
    "**periodo**: año del dset \n",
    "\n",
    "**fecha**: año dia mes\n",
    "\n",
    "**hora_inicio** hora de inicio de la cuenta de vehiculos (DROP)\n",
    "\n",
    "**hora_fin** hora de fin de la cuenta de vehiculos (Vamos a usar esta para tomar la hora)\n",
    "\n",
    "**dia**: dia de la semana \n",
    "\n",
    "**estacion**: estaciones de peaje, difieren levemente entre los años (Dellepiane se unifica en 2019, antes habia Dellepiane Liniers y Centro, y se agrega PDB)\n",
    "\n",
    "**sentido**: Centro o Provincia\n",
    "\n",
    "**tipo_vehiculo**: Liviano o Pesado\n",
    "\n",
    "**forma_pago**: Hay varias y varian entre los años.\n",
    "\n",
    "**cantidad_pasos**: Cantidad de vehiculos"
   ]
  },
  {
   "cell_type": "markdown",
   "metadata": {
    "id": "cDmDNVJDId2r"
   },
   "source": [
    "Vamos a estar trabajando con la estación **Illia** y la forma de pago **Efectivo**\n"
   ]
  },
  {
   "cell_type": "code",
   "execution_count": 10,
   "metadata": {
    "id": "SOUCg2f7Id2s",
    "outputId": "7c8c43a7-63c9-4179-dc60-04c358afd65d"
   },
   "outputs": [
    {
     "data": {
      "text/html": [
       "<div>\n",
       "<style scoped>\n",
       "    .dataframe tbody tr th:only-of-type {\n",
       "        vertical-align: middle;\n",
       "    }\n",
       "\n",
       "    .dataframe tbody tr th {\n",
       "        vertical-align: top;\n",
       "    }\n",
       "\n",
       "    .dataframe thead th {\n",
       "        text-align: right;\n",
       "    }\n",
       "</style>\n",
       "<table border=\"1\" class=\"dataframe\">\n",
       "  <thead>\n",
       "    <tr style=\"text-align: right;\">\n",
       "      <th></th>\n",
       "      <th>fecha</th>\n",
       "      <th>hora_fin</th>\n",
       "      <th>dia</th>\n",
       "      <th>sentido</th>\n",
       "      <th>tipo_vehiculo</th>\n",
       "      <th>cantidad_pasos</th>\n",
       "    </tr>\n",
       "  </thead>\n",
       "  <tbody>\n",
       "    <tr>\n",
       "      <th>80</th>\n",
       "      <td>2019-01-01</td>\n",
       "      <td>2</td>\n",
       "      <td>Martes</td>\n",
       "      <td>Centro</td>\n",
       "      <td>Liviano</td>\n",
       "      <td>537</td>\n",
       "    </tr>\n",
       "    <tr>\n",
       "      <th>86</th>\n",
       "      <td>2019-01-01</td>\n",
       "      <td>2</td>\n",
       "      <td>Martes</td>\n",
       "      <td>Centro</td>\n",
       "      <td>Pesado</td>\n",
       "      <td>1</td>\n",
       "    </tr>\n",
       "    <tr>\n",
       "      <th>88</th>\n",
       "      <td>2019-01-01</td>\n",
       "      <td>2</td>\n",
       "      <td>Martes</td>\n",
       "      <td>Provincia</td>\n",
       "      <td>Liviano</td>\n",
       "      <td>443</td>\n",
       "    </tr>\n",
       "    <tr>\n",
       "      <th>94</th>\n",
       "      <td>2019-01-01</td>\n",
       "      <td>2</td>\n",
       "      <td>Martes</td>\n",
       "      <td>Provincia</td>\n",
       "      <td>Pesado</td>\n",
       "      <td>1</td>\n",
       "    </tr>\n",
       "    <tr>\n",
       "      <th>149</th>\n",
       "      <td>2019-01-01</td>\n",
       "      <td>3</td>\n",
       "      <td>Martes</td>\n",
       "      <td>Centro</td>\n",
       "      <td>Liviano</td>\n",
       "      <td>769</td>\n",
       "    </tr>\n",
       "  </tbody>\n",
       "</table>\n",
       "</div>"
      ],
      "text/plain": [
       "          fecha  hora_fin     dia    sentido tipo_vehiculo  cantidad_pasos\n",
       "80   2019-01-01         2  Martes     Centro       Liviano             537\n",
       "86   2019-01-01         2  Martes     Centro        Pesado               1\n",
       "88   2019-01-01         2  Martes  Provincia       Liviano             443\n",
       "94   2019-01-01         2  Martes  Provincia        Pesado               1\n",
       "149  2019-01-01         3  Martes     Centro       Liviano             769"
      ]
     },
     "execution_count": 10,
     "metadata": {},
     "output_type": "execute_result"
    }
   ],
   "source": [
    "#Unimos los 3 datasets, podemos hacerlo asi directamente ya que tienen las mismas columnas\n",
    "dataset = pd.concat([data_2019, data_2018, data_2017])\n",
    "\n",
    "#Nos quedamos solamente con la estación Illia y la forma de pago Efectivo\n",
    "mask = np.logical_and(dataset.estacion=='Illia', dataset.forma_pago == 'EFECTIVO') #telepase\n",
    "dataset = dataset[mask]\n",
    "\n",
    "#Quitamos las columnas que no vamos a utilizar\n",
    "dataset.drop(columns = ['periodo','hora_inicio','forma_pago', 'estacion'], inplace = True)\n",
    "\n",
    "dataset.head()"
   ]
  },
  {
   "cell_type": "code",
   "execution_count": 11,
   "metadata": {
    "id": "kLi3lxc_Id2x",
    "outputId": "7103c2e7-9908-48c1-e6b6-65930c273e56"
   },
   "outputs": [
    {
     "data": {
      "text/html": [
       "<div>\n",
       "<style scoped>\n",
       "    .dataframe tbody tr th:only-of-type {\n",
       "        vertical-align: middle;\n",
       "    }\n",
       "\n",
       "    .dataframe tbody tr th {\n",
       "        vertical-align: top;\n",
       "    }\n",
       "\n",
       "    .dataframe thead th {\n",
       "        text-align: right;\n",
       "    }\n",
       "</style>\n",
       "<table border=\"1\" class=\"dataframe\">\n",
       "  <thead>\n",
       "    <tr style=\"text-align: right;\">\n",
       "      <th></th>\n",
       "      <th>dia</th>\n",
       "      <th>sentido</th>\n",
       "      <th>tipo_vehiculo</th>\n",
       "      <th>cantidad_pasos</th>\n",
       "      <th>fecha2</th>\n",
       "    </tr>\n",
       "  </thead>\n",
       "  <tbody>\n",
       "    <tr>\n",
       "      <th>80</th>\n",
       "      <td>Martes</td>\n",
       "      <td>Centro</td>\n",
       "      <td>Liviano</td>\n",
       "      <td>537</td>\n",
       "      <td>2019-01-01 02:00:00</td>\n",
       "    </tr>\n",
       "    <tr>\n",
       "      <th>86</th>\n",
       "      <td>Martes</td>\n",
       "      <td>Centro</td>\n",
       "      <td>Pesado</td>\n",
       "      <td>1</td>\n",
       "      <td>2019-01-01 02:00:00</td>\n",
       "    </tr>\n",
       "    <tr>\n",
       "      <th>88</th>\n",
       "      <td>Martes</td>\n",
       "      <td>Provincia</td>\n",
       "      <td>Liviano</td>\n",
       "      <td>443</td>\n",
       "      <td>2019-01-01 02:00:00</td>\n",
       "    </tr>\n",
       "    <tr>\n",
       "      <th>94</th>\n",
       "      <td>Martes</td>\n",
       "      <td>Provincia</td>\n",
       "      <td>Pesado</td>\n",
       "      <td>1</td>\n",
       "      <td>2019-01-01 02:00:00</td>\n",
       "    </tr>\n",
       "    <tr>\n",
       "      <th>149</th>\n",
       "      <td>Martes</td>\n",
       "      <td>Centro</td>\n",
       "      <td>Liviano</td>\n",
       "      <td>769</td>\n",
       "      <td>2019-01-01 03:00:00</td>\n",
       "    </tr>\n",
       "  </tbody>\n",
       "</table>\n",
       "</div>"
      ],
      "text/plain": [
       "        dia    sentido tipo_vehiculo  cantidad_pasos              fecha2\n",
       "80   Martes     Centro       Liviano             537 2019-01-01 02:00:00\n",
       "86   Martes     Centro        Pesado               1 2019-01-01 02:00:00\n",
       "88   Martes  Provincia       Liviano             443 2019-01-01 02:00:00\n",
       "94   Martes  Provincia        Pesado               1 2019-01-01 02:00:00\n",
       "149  Martes     Centro       Liviano             769 2019-01-01 03:00:00"
      ]
     },
     "execution_count": 11,
     "metadata": {},
     "output_type": "execute_result"
    }
   ],
   "source": [
    "#Pasamos la columna fecha a formato datetime, y le unimos la hora_fin como hora\n",
    "dataset['fecha2'] = pd.to_datetime(dataset.fecha) + pd.to_timedelta(dataset.hora_fin, unit = 'h')\n",
    "\n",
    "#Quitamos las columnas fecha y hora_fin ya que las incluimos en el campo fecha2\n",
    "dataset.drop(columns=['fecha','hora_fin'], inplace = True)\n",
    "\n",
    "dataset.head()"
   ]
  },
  {
   "cell_type": "code",
   "execution_count": 12,
   "metadata": {
    "id": "8coELKbyId23",
    "outputId": "e0175e08-c1bd-4bb5-9af0-3df5ebe8f152"
   },
   "outputs": [
    {
     "data": {
      "text/html": [
       "<div>\n",
       "<style scoped>\n",
       "    .dataframe tbody tr th:only-of-type {\n",
       "        vertical-align: middle;\n",
       "    }\n",
       "\n",
       "    .dataframe tbody tr th {\n",
       "        vertical-align: top;\n",
       "    }\n",
       "\n",
       "    .dataframe thead th {\n",
       "        text-align: right;\n",
       "    }\n",
       "</style>\n",
       "<table border=\"1\" class=\"dataframe\">\n",
       "  <thead>\n",
       "    <tr style=\"text-align: right;\">\n",
       "      <th></th>\n",
       "      <th>dia</th>\n",
       "      <th>sentido</th>\n",
       "      <th>tipo_vehiculo</th>\n",
       "      <th>cantidad_pasos</th>\n",
       "      <th>fecha</th>\n",
       "    </tr>\n",
       "  </thead>\n",
       "  <tbody>\n",
       "    <tr>\n",
       "      <th>80</th>\n",
       "      <td>Martes</td>\n",
       "      <td>Centro</td>\n",
       "      <td>Liviano</td>\n",
       "      <td>537</td>\n",
       "      <td>2019-01-01 02:00:00</td>\n",
       "    </tr>\n",
       "    <tr>\n",
       "      <th>86</th>\n",
       "      <td>Martes</td>\n",
       "      <td>Centro</td>\n",
       "      <td>Pesado</td>\n",
       "      <td>1</td>\n",
       "      <td>2019-01-01 02:00:00</td>\n",
       "    </tr>\n",
       "    <tr>\n",
       "      <th>88</th>\n",
       "      <td>Martes</td>\n",
       "      <td>Provincia</td>\n",
       "      <td>Liviano</td>\n",
       "      <td>443</td>\n",
       "      <td>2019-01-01 02:00:00</td>\n",
       "    </tr>\n",
       "    <tr>\n",
       "      <th>94</th>\n",
       "      <td>Martes</td>\n",
       "      <td>Provincia</td>\n",
       "      <td>Pesado</td>\n",
       "      <td>1</td>\n",
       "      <td>2019-01-01 02:00:00</td>\n",
       "    </tr>\n",
       "    <tr>\n",
       "      <th>149</th>\n",
       "      <td>Martes</td>\n",
       "      <td>Centro</td>\n",
       "      <td>Liviano</td>\n",
       "      <td>769</td>\n",
       "      <td>2019-01-01 03:00:00</td>\n",
       "    </tr>\n",
       "  </tbody>\n",
       "</table>\n",
       "</div>"
      ],
      "text/plain": [
       "        dia    sentido tipo_vehiculo  cantidad_pasos               fecha\n",
       "80   Martes     Centro       Liviano             537 2019-01-01 02:00:00\n",
       "86   Martes     Centro        Pesado               1 2019-01-01 02:00:00\n",
       "88   Martes  Provincia       Liviano             443 2019-01-01 02:00:00\n",
       "94   Martes  Provincia        Pesado               1 2019-01-01 02:00:00\n",
       "149  Martes     Centro       Liviano             769 2019-01-01 03:00:00"
      ]
     },
     "execution_count": 12,
     "metadata": {},
     "output_type": "execute_result"
    }
   ],
   "source": [
    "#Corregimos el nombre de fecha2 a fecha\n",
    "dataset.rename(columns = {'fecha2':'fecha'}, inplace = True) \n",
    "dataset.head()"
   ]
  },
  {
   "cell_type": "code",
   "execution_count": 13,
   "metadata": {
    "id": "Z4Uzn2ktId29",
    "outputId": "909993f9-0918-4736-f457-cc0b25bcb500"
   },
   "outputs": [
    {
     "data": {
      "text/html": [
       "<div>\n",
       "<style scoped>\n",
       "    .dataframe tbody tr th:only-of-type {\n",
       "        vertical-align: middle;\n",
       "    }\n",
       "\n",
       "    .dataframe tbody tr th {\n",
       "        vertical-align: top;\n",
       "    }\n",
       "\n",
       "    .dataframe thead th {\n",
       "        text-align: right;\n",
       "    }\n",
       "</style>\n",
       "<table border=\"1\" class=\"dataframe\">\n",
       "  <thead>\n",
       "    <tr style=\"text-align: right;\">\n",
       "      <th></th>\n",
       "      <th>dia</th>\n",
       "      <th>sentido</th>\n",
       "      <th>tipo_vehiculo</th>\n",
       "      <th>cantidad_pasos</th>\n",
       "      <th>fecha</th>\n",
       "    </tr>\n",
       "  </thead>\n",
       "  <tbody>\n",
       "    <tr>\n",
       "      <th>0</th>\n",
       "      <td>Domingo</td>\n",
       "      <td>Provincia</td>\n",
       "      <td>Pesado</td>\n",
       "      <td>1</td>\n",
       "      <td>2017-01-01 00:00:00</td>\n",
       "    </tr>\n",
       "    <tr>\n",
       "      <th>1</th>\n",
       "      <td>Domingo</td>\n",
       "      <td>Provincia</td>\n",
       "      <td>Liviano</td>\n",
       "      <td>9</td>\n",
       "      <td>2017-01-01 00:00:00</td>\n",
       "    </tr>\n",
       "    <tr>\n",
       "      <th>2</th>\n",
       "      <td>Domingo</td>\n",
       "      <td>Provincia</td>\n",
       "      <td>Liviano</td>\n",
       "      <td>644</td>\n",
       "      <td>2017-01-01 00:00:00</td>\n",
       "    </tr>\n",
       "    <tr>\n",
       "      <th>3</th>\n",
       "      <td>Domingo</td>\n",
       "      <td>Provincia</td>\n",
       "      <td>Pesado</td>\n",
       "      <td>6</td>\n",
       "      <td>2017-01-01 00:00:00</td>\n",
       "    </tr>\n",
       "    <tr>\n",
       "      <th>4</th>\n",
       "      <td>Domingo</td>\n",
       "      <td>Provincia</td>\n",
       "      <td>Pesado</td>\n",
       "      <td>1</td>\n",
       "      <td>2017-01-01 00:00:00</td>\n",
       "    </tr>\n",
       "    <tr>\n",
       "      <th>...</th>\n",
       "      <td>...</td>\n",
       "      <td>...</td>\n",
       "      <td>...</td>\n",
       "      <td>...</td>\n",
       "      <td>...</td>\n",
       "    </tr>\n",
       "    <tr>\n",
       "      <th>238864</th>\n",
       "      <td>Martes</td>\n",
       "      <td>Provincia</td>\n",
       "      <td>Liviano</td>\n",
       "      <td>556</td>\n",
       "      <td>2019-12-31 22:00:00</td>\n",
       "    </tr>\n",
       "    <tr>\n",
       "      <th>238865</th>\n",
       "      <td>Martes</td>\n",
       "      <td>Provincia</td>\n",
       "      <td>Pesado</td>\n",
       "      <td>1</td>\n",
       "      <td>2019-12-31 22:00:00</td>\n",
       "    </tr>\n",
       "    <tr>\n",
       "      <th>238866</th>\n",
       "      <td>Martes</td>\n",
       "      <td>Centro</td>\n",
       "      <td>Liviano</td>\n",
       "      <td>580</td>\n",
       "      <td>2019-12-31 22:00:00</td>\n",
       "    </tr>\n",
       "    <tr>\n",
       "      <th>238867</th>\n",
       "      <td>Martes</td>\n",
       "      <td>Centro</td>\n",
       "      <td>Liviano</td>\n",
       "      <td>214</td>\n",
       "      <td>2019-12-31 23:00:00</td>\n",
       "    </tr>\n",
       "    <tr>\n",
       "      <th>238868</th>\n",
       "      <td>Martes</td>\n",
       "      <td>Provincia</td>\n",
       "      <td>Liviano</td>\n",
       "      <td>190</td>\n",
       "      <td>2019-12-31 23:00:00</td>\n",
       "    </tr>\n",
       "  </tbody>\n",
       "</table>\n",
       "<p>238869 rows × 5 columns</p>\n",
       "</div>"
      ],
      "text/plain": [
       "            dia    sentido tipo_vehiculo  cantidad_pasos               fecha\n",
       "0       Domingo  Provincia        Pesado               1 2017-01-01 00:00:00\n",
       "1       Domingo  Provincia       Liviano               9 2017-01-01 00:00:00\n",
       "2       Domingo  Provincia       Liviano             644 2017-01-01 00:00:00\n",
       "3       Domingo  Provincia        Pesado               6 2017-01-01 00:00:00\n",
       "4       Domingo  Provincia        Pesado               1 2017-01-01 00:00:00\n",
       "...         ...        ...           ...             ...                 ...\n",
       "238864   Martes  Provincia       Liviano             556 2019-12-31 22:00:00\n",
       "238865   Martes  Provincia        Pesado               1 2019-12-31 22:00:00\n",
       "238866   Martes     Centro       Liviano             580 2019-12-31 22:00:00\n",
       "238867   Martes     Centro       Liviano             214 2019-12-31 23:00:00\n",
       "238868   Martes  Provincia       Liviano             190 2019-12-31 23:00:00\n",
       "\n",
       "[238869 rows x 5 columns]"
      ]
     },
     "execution_count": 13,
     "metadata": {},
     "output_type": "execute_result"
    }
   ],
   "source": [
    "#Reordenamos el dataset por fecha\n",
    "dataset.sort_values('fecha', inplace = True)\n",
    "dataset.reset_index(drop=True, inplace = True)\n",
    "dataset"
   ]
  },
  {
   "cell_type": "code",
   "execution_count": 14,
   "metadata": {
    "id": "ZzYn6u95Id3B",
    "outputId": "0fb0f7bf-be9e-4ac4-9028-4c6e0947dc9c"
   },
   "outputs": [
    {
     "data": {
      "image/png": "[encoded data removed]",
      "text/plain": [
       "<Figure size 1080x432 with 1 Axes>"
      ]
     },
     "metadata": {
      "needs_background": "light"
     },
     "output_type": "display_data"
    }
   ],
   "source": [
    "#Graficamos nuestros datos, tal como están\n",
    "plt.figure(figsize = (15,6))\n",
    "plt.plot(dataset.fecha, dataset.cantidad_pasos)\n",
    "plt.xlabel('Tiempo')\n",
    "plt.ylabel('Cantidad de autos, por hora')\n",
    "plt.show()"
   ]
  },
  {
   "cell_type": "code",
   "execution_count": 15,
   "metadata": {
    "id": "amoQFmNpId3F",
    "outputId": "07236a00-29a6-435a-cd3d-f32cc7c07d35"
   },
   "outputs": [
    {
     "name": "stdout",
     "output_type": "stream",
     "text": [
      "(1095, 1)\n"
     ]
    },
    {
     "data": {
      "text/html": [
       "<div>\n",
       "<style scoped>\n",
       "    .dataframe tbody tr th:only-of-type {\n",
       "        vertical-align: middle;\n",
       "    }\n",
       "\n",
       "    .dataframe tbody tr th {\n",
       "        vertical-align: top;\n",
       "    }\n",
       "\n",
       "    .dataframe thead th {\n",
       "        text-align: right;\n",
       "    }\n",
       "</style>\n",
       "<table border=\"1\" class=\"dataframe\">\n",
       "  <thead>\n",
       "    <tr style=\"text-align: right;\">\n",
       "      <th></th>\n",
       "      <th>cantidad_pasos</th>\n",
       "    </tr>\n",
       "    <tr>\n",
       "      <th>fecha</th>\n",
       "      <th></th>\n",
       "    </tr>\n",
       "  </thead>\n",
       "  <tbody>\n",
       "    <tr>\n",
       "      <th>2017-01-01</th>\n",
       "      <td>31183</td>\n",
       "    </tr>\n",
       "    <tr>\n",
       "      <th>2017-01-02</th>\n",
       "      <td>51568</td>\n",
       "    </tr>\n",
       "    <tr>\n",
       "      <th>2017-01-03</th>\n",
       "      <td>51093</td>\n",
       "    </tr>\n",
       "    <tr>\n",
       "      <th>2017-01-04</th>\n",
       "      <td>53332</td>\n",
       "    </tr>\n",
       "    <tr>\n",
       "      <th>2017-01-05</th>\n",
       "      <td>56486</td>\n",
       "    </tr>\n",
       "  </tbody>\n",
       "</table>\n",
       "</div>"
      ],
      "text/plain": [
       "            cantidad_pasos\n",
       "fecha                     \n",
       "2017-01-01           31183\n",
       "2017-01-02           51568\n",
       "2017-01-03           51093\n",
       "2017-01-04           53332\n",
       "2017-01-05           56486"
      ]
     },
     "execution_count": 15,
     "metadata": {},
     "output_type": "execute_result"
    }
   ],
   "source": [
    "#Resampleamos nuestros datos para agrupar por dia, y asi tal vez lograr una visualización mas amigable\n",
    "diario = dataset.resample('D', on = 'fecha').sum()\n",
    "print(diario.shape)\n",
    "diario.head()"
   ]
  },
  {
   "cell_type": "code",
   "execution_count": 16,
   "metadata": {
    "id": "JgqZaiEDId3L",
    "outputId": "381d8dc4-877c-4ccb-c0cd-83f54a1dfc0a"
   },
   "outputs": [
    {
     "data": {
      "image/png": "[encoded data removed]",
      "text/plain": [
       "<Figure size 1080x432 with 1 Axes>"
      ]
     },
     "metadata": {
      "needs_background": "light"
     },
     "output_type": "display_data"
    }
   ],
   "source": [
    "plt.figure(figsize = (15,6))\n",
    "plt.plot(diario.index, diario.cantidad_pasos)\n",
    "plt.xlabel('Tiempo')\n",
    "plt.ylabel('Cantidad de autos, por dia')\n",
    "plt.show()"
   ]
  },
  {
   "cell_type": "markdown",
   "metadata": {
    "id": "vfwxE2VXId3O"
   },
   "source": [
    "## 1 . Analisis Exploratorio de datos ## "
   ]
  },
  {
   "cell_type": "code",
   "execution_count": 17,
   "metadata": {},
   "outputs": [
    {
     "data": {
      "text/html": [
       "<div>\n",
       "<style scoped>\n",
       "    .dataframe tbody tr th:only-of-type {\n",
       "        vertical-align: middle;\n",
       "    }\n",
       "\n",
       "    .dataframe tbody tr th {\n",
       "        vertical-align: top;\n",
       "    }\n",
       "\n",
       "    .dataframe thead th {\n",
       "        text-align: right;\n",
       "    }\n",
       "</style>\n",
       "<table border=\"1\" class=\"dataframe\">\n",
       "  <thead>\n",
       "    <tr style=\"text-align: right;\">\n",
       "      <th></th>\n",
       "      <th>cantidad_pasos</th>\n",
       "    </tr>\n",
       "    <tr>\n",
       "      <th>fecha</th>\n",
       "      <th></th>\n",
       "    </tr>\n",
       "  </thead>\n",
       "  <tbody>\n",
       "    <tr>\n",
       "      <th>2017-01-01</th>\n",
       "      <td>31183</td>\n",
       "    </tr>\n",
       "    <tr>\n",
       "      <th>2017-01-02</th>\n",
       "      <td>51568</td>\n",
       "    </tr>\n",
       "    <tr>\n",
       "      <th>2017-01-03</th>\n",
       "      <td>51093</td>\n",
       "    </tr>\n",
       "    <tr>\n",
       "      <th>2017-01-04</th>\n",
       "      <td>53332</td>\n",
       "    </tr>\n",
       "    <tr>\n",
       "      <th>2017-01-05</th>\n",
       "      <td>56486</td>\n",
       "    </tr>\n",
       "  </tbody>\n",
       "</table>\n",
       "</div>"
      ],
      "text/plain": [
       "            cantidad_pasos\n",
       "fecha                     \n",
       "2017-01-01           31183\n",
       "2017-01-02           51568\n",
       "2017-01-03           51093\n",
       "2017-01-04           53332\n",
       "2017-01-05           56486"
      ]
     },
     "execution_count": 17,
     "metadata": {},
     "output_type": "execute_result"
    }
   ],
   "source": [
    "data=diario \n",
    "data.head()"
   ]
  },
  {
   "cell_type": "code",
   "execution_count": 18,
   "metadata": {},
   "outputs": [
    {
     "data": {
      "text/plain": [
       "(1095, 1)"
      ]
     },
     "execution_count": 18,
     "metadata": {},
     "output_type": "execute_result"
    }
   ],
   "source": [
    "data.shape"
   ]
  },
  {
   "cell_type": "markdown",
   "metadata": {},
   "source": [
    "## Analizamos los valores nulos ## "
   ]
  },
  {
   "cell_type": "code",
   "execution_count": 19,
   "metadata": {},
   "outputs": [
    {
     "data": {
      "text/plain": [
       "cantidad_pasos    0\n",
       "dtype: int64"
      ]
     },
     "execution_count": 19,
     "metadata": {},
     "output_type": "execute_result"
    }
   ],
   "source": [
    "data.isnull().sum()"
   ]
  },
  {
   "cell_type": "code",
   "execution_count": 20,
   "metadata": {},
   "outputs": [],
   "source": [
    "data=diario.reset_index()"
   ]
  },
  {
   "cell_type": "code",
   "execution_count": 21,
   "metadata": {},
   "outputs": [
    {
     "data": {
      "text/plain": [
       "1 days    1094\n",
       "Name: date_check, dtype: int64"
      ]
     },
     "execution_count": 21,
     "metadata": {},
     "output_type": "execute_result"
    }
   ],
   "source": [
    "data['date_check'] = data.fecha.diff()\n",
    "data.date_check.value_counts()"
   ]
  },
  {
   "cell_type": "code",
   "execution_count": 22,
   "metadata": {},
   "outputs": [
    {
     "data": {
      "text/html": [
       "<div>\n",
       "<style scoped>\n",
       "    .dataframe tbody tr th:only-of-type {\n",
       "        vertical-align: middle;\n",
       "    }\n",
       "\n",
       "    .dataframe tbody tr th {\n",
       "        vertical-align: top;\n",
       "    }\n",
       "\n",
       "    .dataframe thead th {\n",
       "        text-align: right;\n",
       "    }\n",
       "</style>\n",
       "<table border=\"1\" class=\"dataframe\">\n",
       "  <thead>\n",
       "    <tr style=\"text-align: right;\">\n",
       "      <th></th>\n",
       "      <th>fecha</th>\n",
       "      <th>cantidad_pasos</th>\n",
       "      <th>date_check</th>\n",
       "    </tr>\n",
       "  </thead>\n",
       "  <tbody>\n",
       "    <tr>\n",
       "      <th>0</th>\n",
       "      <td>2017-01-01</td>\n",
       "      <td>31183</td>\n",
       "      <td>NaT</td>\n",
       "    </tr>\n",
       "    <tr>\n",
       "      <th>1</th>\n",
       "      <td>2017-01-02</td>\n",
       "      <td>51568</td>\n",
       "      <td>1 days</td>\n",
       "    </tr>\n",
       "    <tr>\n",
       "      <th>2</th>\n",
       "      <td>2017-01-03</td>\n",
       "      <td>51093</td>\n",
       "      <td>1 days</td>\n",
       "    </tr>\n",
       "    <tr>\n",
       "      <th>3</th>\n",
       "      <td>2017-01-04</td>\n",
       "      <td>53332</td>\n",
       "      <td>1 days</td>\n",
       "    </tr>\n",
       "    <tr>\n",
       "      <th>4</th>\n",
       "      <td>2017-01-05</td>\n",
       "      <td>56486</td>\n",
       "      <td>1 days</td>\n",
       "    </tr>\n",
       "  </tbody>\n",
       "</table>\n",
       "</div>"
      ],
      "text/plain": [
       "       fecha  cantidad_pasos date_check\n",
       "0 2017-01-01           31183        NaT\n",
       "1 2017-01-02           51568     1 days\n",
       "2 2017-01-03           51093     1 days\n",
       "3 2017-01-04           53332     1 days\n",
       "4 2017-01-05           56486     1 days"
      ]
     },
     "execution_count": 22,
     "metadata": {},
     "output_type": "execute_result"
    }
   ],
   "source": [
    "data.head()"
   ]
  },
  {
   "cell_type": "code",
   "execution_count": 23,
   "metadata": {
    "id": "JgqZaiEDId3L",
    "outputId": "381d8dc4-877c-4ccb-c0cd-83f54a1dfc0a"
   },
   "outputs": [
    {
     "data": {
      "image/png": "[encoded data removed]",
      "text/plain": [
       "<Figure size 1080x432 with 1 Axes>"
      ]
     },
     "metadata": {
      "needs_background": "light"
     },
     "output_type": "display_data"
    }
   ],
   "source": [
    "plt.figure(figsize = (15,6))\n",
    "plt.plot(diario.index, diario.cantidad_pasos)\n",
    "plt.xlabel('Tiempo')\n",
    "plt.ylabel('Cantidad_pasos, por dia')\n",
    "plt.show()"
   ]
  },
  {
   "cell_type": "markdown",
   "metadata": {},
   "source": [
    "## Test de Estacionalidad ##"
   ]
  },
  {
   "cell_type": "code",
   "execution_count": 24,
   "metadata": {},
   "outputs": [
    {
     "ename": "ModuleNotFoundError",
     "evalue": "No module named 'statsmodels'",
     "output_type": "error",
     "traceback": [
      "\u001b[1;31m---------------------------------------------------------------------------\u001b[0m",
      "\u001b[1;31mModuleNotFoundError\u001b[0m                       Traceback (most recent call last)",
      "\u001b[1;32m<ipython-input-24-8b294bfed5ff>\u001b[0m in \u001b[0;36m<module>\u001b[1;34m()\u001b[0m\n\u001b[1;32m----> 1\u001b[1;33m \u001b[1;32mfrom\u001b[0m \u001b[0mstatsmodels\u001b[0m\u001b[1;33m.\u001b[0m\u001b[0mtsa\u001b[0m\u001b[1;33m.\u001b[0m\u001b[0mstattools\u001b[0m \u001b[1;32mimport\u001b[0m \u001b[0madfuller\u001b[0m\u001b[1;33m\u001b[0m\u001b[1;33m\u001b[0m\u001b[0m\n\u001b[0m\u001b[0;32m      2\u001b[0m \u001b[0mX\u001b[0m \u001b[1;33m=\u001b[0m \u001b[0mdiario\u001b[0m\u001b[1;33m.\u001b[0m\u001b[0mcantidad_pasos\u001b[0m\u001b[1;33m\u001b[0m\u001b[1;33m\u001b[0m\u001b[0m\n\u001b[0;32m      3\u001b[0m \u001b[0mresult\u001b[0m \u001b[1;33m=\u001b[0m \u001b[0madfuller\u001b[0m\u001b[1;33m(\u001b[0m\u001b[0mX\u001b[0m\u001b[1;33m)\u001b[0m\u001b[1;33m\u001b[0m\u001b[1;33m\u001b[0m\u001b[0m\n\u001b[0;32m      4\u001b[0m \u001b[0mprint\u001b[0m\u001b[1;33m(\u001b[0m\u001b[1;34m'ADF Statistic: %f'\u001b[0m \u001b[1;33m%\u001b[0m \u001b[0mresult\u001b[0m\u001b[1;33m[\u001b[0m\u001b[1;36m0\u001b[0m\u001b[1;33m]\u001b[0m\u001b[1;33m)\u001b[0m\u001b[1;33m\u001b[0m\u001b[1;33m\u001b[0m\u001b[0m\n\u001b[0;32m      5\u001b[0m \u001b[0mprint\u001b[0m\u001b[1;33m(\u001b[0m\u001b[1;34m'p-value: %f'\u001b[0m \u001b[1;33m%\u001b[0m \u001b[0mresult\u001b[0m\u001b[1;33m[\u001b[0m\u001b[1;36m1\u001b[0m\u001b[1;33m]\u001b[0m\u001b[1;33m)\u001b[0m\u001b[1;33m\u001b[0m\u001b[1;33m\u001b[0m\u001b[0m\n",
      "\u001b[1;31mModuleNotFoundError\u001b[0m: No module named 'statsmodels'"
     ]
    }
   ],
   "source": [
    "from statsmodels.tsa.stattools import adfuller \n",
    "X = diario.cantidad_pasos \n",
    "result = adfuller(X)\n",
    "print('ADF Statistic: %f' % result[0]) \n",
    "print('p-value: %f' % result[1]) \n",
    "print('Critical Values:') \n",
    "for key, value in result[4].items(): print('\\t%s: %.3f' % (key, value))"
   ]
  },
  {
   "cell_type": "markdown",
   "metadata": {},
   "source": [
    "Hacer: comparar la estacionalidad aplicando.diff"
   ]
  },
  {
   "cell_type": "markdown",
   "metadata": {},
   "source": [
    "## Analizamos la Media movil ## \n",
    "\n",
    "- Comenzamos sacando outliers y rellenando valores faltantes"
   ]
  },
  {
   "cell_type": "code",
   "execution_count": null,
   "metadata": {
    "id": "Twvxf1ED8D_A"
   },
   "outputs": [],
   "source": [
    "diario.cantidad_pasos[diario.cantidad_pasos< 10000]=np.nan"
   ]
  },
  {
   "cell_type": "code",
   "execution_count": null,
   "metadata": {
    "id": "lhL1ZoVt8D_b"
   },
   "outputs": [],
   "source": [
    "print(diario.isna().sum())\n",
    "diario = diario.interpolate()\n",
    "print(diario.isna().sum())"
   ]
  },
  {
   "cell_type": "code",
   "execution_count": null,
   "metadata": {
    "id": "JgqZaiEDId3L",
    "outputId": "381d8dc4-877c-4ccb-c0cd-83f54a1dfc0a"
   },
   "outputs": [],
   "source": [
    "plt.figure(figsize = (15,6))\n",
    "plt.plot(diario.index, diario.cantidad_pasos)\n",
    "plt.xlabel('Tiempo')\n",
    "plt.ylabel('Cantidad_pasos')\n",
    "plt.show()"
   ]
  },
  {
   "cell_type": "code",
   "execution_count": null,
   "metadata": {},
   "outputs": [],
   "source": [
    "# Hay que definir la ventana \n",
    "#ventana= int(365/15*365)\n",
    "promedio_diario=diario.cantidad_pasos.rolling(window=7, center=True).mean()\n",
    "promedio_diario"
   ]
  },
  {
   "cell_type": "code",
   "execution_count": null,
   "metadata": {
    "id": "KP6fctbh8EAd"
   },
   "outputs": [],
   "source": [
    "plt.figure(figsize = (15,5))\n",
    "plt.plot(diario.index, diario.cantidad_pasos, label = 'Cantidad de pasos')\n",
    "plt.plot(promedio_diario, label = 'Rolling Window')\n",
    "plt.xlabel('Fecha')\n",
    "plt.ylabel('cantidad de pasos')\n",
    "plt.legend()\n",
    "plt.show()"
   ]
  },
  {
   "cell_type": "code",
   "execution_count": null,
   "metadata": {},
   "outputs": [],
   "source": [
    "plt.figure(figsize = (15,5))\n",
    "plt.plot(promedio_diario, label = 'Rolling Window')"
   ]
  },
  {
   "cell_type": "markdown",
   "metadata": {},
   "source": [
    "## Auto-correlacion ##"
   ]
  },
  {
   "cell_type": "markdown",
   "metadata": {},
   "source": [
    "Muestra que hay una tendencia semanal "
   ]
  },
  {
   "cell_type": "code",
   "execution_count": null,
   "metadata": {},
   "outputs": [],
   "source": [
    "from statsmodels.graphics.tsaplots import plot_acf\n",
    "plot_acf(diario.cantidad_pasos, lags=50)\n",
    "plt.show"
   ]
  },
  {
   "cell_type": "code",
   "execution_count": null,
   "metadata": {},
   "outputs": [],
   "source": [
    "from statsmodels.tsa.seasonal import seasonal_decompose \n",
    "\n",
    "result=seasonal_decompose(diario.cantidad_pasos, model='aditive')"
   ]
  },
  {
   "cell_type": "code",
   "execution_count": null,
   "metadata": {},
   "outputs": [],
   "source": [
    "import matplotlib \n",
    "matplotlib.rcParams['figure.figsize']=[12,12]\n",
    "result.plot() \n",
    "plt.show()"
   ]
  },
  {
   "cell_type": "markdown",
   "metadata": {},
   "source": [
    "## Analizamos la tendecia para la forma de pago con telepase ## "
   ]
  },
  {
   "cell_type": "code",
   "execution_count": null,
   "metadata": {
    "id": "SOUCg2f7Id2s",
    "outputId": "7c8c43a7-63c9-4179-dc60-04c358afd65d"
   },
   "outputs": [],
   "source": [
    "#Unimos los 3 datasets, podemos hacerlo asi directamente ya que tienen las mismas columnas\n",
    "dataset = pd.concat([data_2019, data_2018, data_2017])\n",
    "\n",
    "#Nos quedamos solamente con la estación Illia y la forma de pago TELEPASE\n",
    "mask_2 = np.logical_and(dataset.estacion=='Illia', dataset.forma_pago == 'TELEPASE') #telepase\n",
    "dataset = dataset[mask_2]\n",
    "\n",
    "#Quitamos las columnas que no vamos a utilizar\n",
    "dataset.drop(columns = ['periodo','hora_inicio','forma_pago', 'estacion'], inplace = True)\n",
    "\n",
    "dataset.head()"
   ]
  },
  {
   "cell_type": "code",
   "execution_count": null,
   "metadata": {
    "id": "kLi3lxc_Id2x",
    "outputId": "7103c2e7-9908-48c1-e6b6-65930c273e56"
   },
   "outputs": [],
   "source": [
    "#Pasamos la columna fecha a formato datetime, y le unimos la hora_fin como hora\n",
    "dataset['fecha2'] = pd.to_datetime(dataset.fecha) + pd.to_timedelta(dataset.hora_fin, unit = 'h')\n",
    "\n",
    "#Quitamos las columnas fecha y hora_fin ya que las incluimos en el campo fecha2\n",
    "dataset.drop(columns=['fecha','hora_fin'], inplace = True)\n",
    "\n",
    "dataset.head()"
   ]
  },
  {
   "cell_type": "code",
   "execution_count": null,
   "metadata": {
    "id": "8coELKbyId23",
    "outputId": "e0175e08-c1bd-4bb5-9af0-3df5ebe8f152"
   },
   "outputs": [],
   "source": [
    "#Corregimos el nombre de fecha2 a fecha\n",
    "dataset.rename(columns = {'fecha2':'fecha'}, inplace = True) \n",
    "dataset.head()"
   ]
  },
  {
   "cell_type": "code",
   "execution_count": null,
   "metadata": {
    "id": "Z4Uzn2ktId29",
    "outputId": "909993f9-0918-4736-f457-cc0b25bcb500"
   },
   "outputs": [],
   "source": [
    "#Reordenamos el dataset por fecha\n",
    "dataset.sort_values('fecha', inplace = True)\n",
    "dataset.reset_index(drop=True, inplace = True)\n",
    "dataset"
   ]
  },
  {
   "cell_type": "code",
   "execution_count": null,
   "metadata": {
    "id": "amoQFmNpId3F",
    "outputId": "07236a00-29a6-435a-cd3d-f32cc7c07d35"
   },
   "outputs": [],
   "source": [
    "#Resampleamos nuestros datos para agrupar por dia, y asi tal vez lograr una visualización mas amigable\n",
    "diario_2 = dataset.resample('D', on = 'fecha').sum()\n",
    "print(diario.shape)\n",
    "diario.head()"
   ]
  },
  {
   "cell_type": "code",
   "execution_count": null,
   "metadata": {
    "id": "JgqZaiEDId3L",
    "outputId": "381d8dc4-877c-4ccb-c0cd-83f54a1dfc0a"
   },
   "outputs": [],
   "source": [
    "plt.figure(figsize = (15,6))\n",
    "plt.plot(diario_2.index, diario.cantidad_pasos)\n",
    "plt.xlabel('Tiempo')\n",
    "plt.ylabel('Cantidad de autos, por dia')\n",
    "plt.show()"
   ]
  },
  {
   "cell_type": "code",
   "execution_count": null,
   "metadata": {},
   "outputs": [],
   "source": [
    "from statsmodels.tsa.seasonal import seasonal_decompose \n",
    "\n",
    "result=seasonal_decompose(diario_2.cantidad_pasos, model='aditive')"
   ]
  },
  {
   "cell_type": "code",
   "execution_count": null,
   "metadata": {},
   "outputs": [],
   "source": [
    "import matplotlib \n",
    "matplotlib.rcParams['figure.figsize']=[12,12]\n",
    "result.plot() \n",
    "plt.show()"
   ]
  },
  {
   "cell_type": "markdown",
   "metadata": {},
   "source": [
    "## Prediccion a futuro ##  "
   ]
  },
  {
   "cell_type": "code",
   "execution_count": null,
   "metadata": {},
   "outputs": [],
   "source": [
    "diario_2=diario.cantidad_pasos\n",
    "diario_2.head()"
   ]
  },
  {
   "cell_type": "code",
   "execution_count": null,
   "metadata": {},
   "outputs": [],
   "source": [
    "look_back=90*1 #uso 180 dias para predecir el valor siguiente  "
   ]
  },
  {
   "cell_type": "code",
   "execution_count": null,
   "metadata": {},
   "outputs": [],
   "source": [
    "N=diario_2.shape[0]\n",
    "X=np.zeros((N- look_back - 1, look_back))\n",
    "y=np.zeros(N- look_back-1)\n",
    "print(X.shape, y.shape)"
   ]
  },
  {
   "cell_type": "code",
   "execution_count": null,
   "metadata": {},
   "outputs": [],
   "source": [
    "# LLenamos las funcion x e y\n",
    "\n",
    "for i in range (X.shape[0]): \n",
    "    X[i,:]= diario_2.iloc[i:i+look_back]\n",
    "    y[i]=diario_2.iloc[i+look_back]"
   ]
  },
  {
   "cell_type": "code",
   "execution_count": null,
   "metadata": {},
   "outputs": [],
   "source": [
    "print(X)"
   ]
  },
  {
   "cell_type": "code",
   "execution_count": null,
   "metadata": {},
   "outputs": [],
   "source": [
    "print(y)"
   ]
  },
  {
   "cell_type": "code",
   "execution_count": null,
   "metadata": {},
   "outputs": [],
   "source": [
    "N_train= 365*2- look_back\n",
    "N_test=365 \n",
    "\n",
    "length_total= N_train + N_test + look_back \n",
    "\n",
    "X_train = X[:N_train,:]\n",
    "y_train= y[:N_train]\n",
    "print(X_train.shape, y_train.shape)\n",
    "\n",
    "X_test= X[N_train:N_train+N_test,:]\n",
    "y_test= y[N_train:N_train+N_test]\n",
    "print(X_test.shape, y_test.shape)\n"
   ]
  },
  {
   "cell_type": "code",
   "execution_count": null,
   "metadata": {},
   "outputs": [],
   "source": [
    "from sklearn.metrics import mean_squared_error \n",
    "from sklearn.ensemble import RandomForestRegressor \n",
    "\n",
    "rf= RandomForestRegressor (n_estimators=40, random_state=42, n_jobs=4).fit(X_train,y_train)"
   ]
  },
  {
   "cell_type": "code",
   "execution_count": null,
   "metadata": {},
   "outputs": [],
   "source": [
    "y_pred=rf.predict(X)\n",
    "y_train_pred=rf.predict(X_train)\n",
    "y_test_pred=rf.predict(X_test)"
   ]
  },
  {
   "cell_type": "code",
   "execution_count": null,
   "metadata": {
    "id": "mNYuT9zZOkfr"
   },
   "outputs": [],
   "source": [
    "plt.figure(figsize=(16,8))\n",
    "plt.plot(diario_2.index[:length_total], diario_2[:length_total],lw = 0.75, label = 'Serie Original')\n",
    "plt.plot(diario_2.index[:N_train + look_back], diario_2[:N_train + look_back],'--', label = 'Usado para entrenar')\n",
    "plt.plot(diario_2.index[look_back: look_back + N_train], y_train_pred,'-.',label = 'Predicho en Train')\n",
    "plt.plot(diario_2.index[N_train+look_back: length_total-1], y_test_pred,'-.', lw = 4, label = 'Predicho en Test')\n",
    "plt.legend()\n",
    "plt.xlabel('Tiempo')\n",
    "plt.ylabel('Cantidad de pasos')\n",
    "plt.show()"
   ]
  },
  {
   "cell_type": "code",
   "execution_count": null,
   "metadata": {},
   "outputs": [],
   "source": [
    "from sklearn.metrics import mean_squared_error\n",
    "MSE=mean_squared_error(y_train,y_train_pred,squared=False)\n",
    "MSE_test=mean_squared_error(y_test, y_test_pred, squared=False)\n",
    "print('Error del train:',MSE)\n",
    "print('Error del test:',MSE_test)"
   ]
  },
  {
   "cell_type": "code",
   "execution_count": null,
   "metadata": {},
   "outputs": [],
   "source": [
    "import shap \n",
    "model = gsearch.best_estimator_ \n",
    "shap_values = shap.TreeExplainer(model).shap_values(X_train) \n",
    "shap.summary_plot(shap_values, X_train, plot_type=\"bar\")"
   ]
  }
 ],
 "metadata": {
  "colab": {
   "collapsed_sections": [],
   "name": "DS_Proyecto_03_ST.ipynb",
   "provenance": []
  },
  "kernelspec": {
   "display_name": "Python 3",
   "language": "python",
   "name": "python3"
  },
  "language_info": {
   "codemirror_mode": {
    "name": "ipython",
    "version": 3
   },
   "file_extension": ".py",
   "mimetype": "text/x-python",
   "name": "python",
   "nbconvert_exporter": "python",
   "pygments_lexer": "ipython3",
   "version": "3.7.8"
  }
 },
 "nbformat": 4,
 "nbformat_minor": 4
}
